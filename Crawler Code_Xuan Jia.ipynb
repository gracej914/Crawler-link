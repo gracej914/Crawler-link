{
 "cells": [
  {
   "cell_type": "code",
   "execution_count": null,
   "id": "1f862c77",
   "metadata": {},
   "outputs": [],
   "source": [
    "import re\n",
    "import requests\n",
    "\n",
    "_str = requests.get(\"https://www.beeradvocate.com/beer/profile/23222/78820\") #Kentucky Brunch Brand Stout#\n",
    "\n",
    "partten = re.compile('<br><br>([\\w\\W\\t]*?)<br><br>')\n",
    "r = partten.findall(_str.text, re.DOTALL)\n",
    "for i in range(0, len(r)):\n",
    "    r[i] = re.sub('<br />', \"\\r\", r[i])\n",
    "    #print(r[i])\n",
    "    #print(\"=============\")"
   ]
  },
  {
   "cell_type": "code",
   "execution_count": null,
   "id": "885b449f",
   "metadata": {},
   "outputs": [],
   "source": [
    "import pandas as pd\n",
    "df = pd.DataFrame()\n",
    "df['Stout - American Imperial']=r"
   ]
  },
  {
   "cell_type": "code",
   "execution_count": null,
   "id": "8ef2b99b",
   "metadata": {},
   "outputs": [],
   "source": [
    "#import csv\n",
    "#df.to_csv('sample_data.csv', index=False, quoting=csv.QUOTE_ALL)\n",
    "df.to_excel('sample_data.xlsx')"
   ]
  }
 ],
 "metadata": {
  "kernelspec": {
   "display_name": "Python 3 (ipykernel)",
   "language": "python",
   "name": "python3"
  },
  "language_info": {
   "codemirror_mode": {
    "name": "ipython",
    "version": 3
   },
   "file_extension": ".py",
   "mimetype": "text/x-python",
   "name": "python",
   "nbconvert_exporter": "python",
   "pygments_lexer": "ipython3",
   "version": "3.9.7"
  },
  "toc": {
   "base_numbering": 1,
   "nav_menu": {},
   "number_sections": true,
   "sideBar": true,
   "skip_h1_title": false,
   "title_cell": "Table of Contents",
   "title_sidebar": "Contents",
   "toc_cell": false,
   "toc_position": {},
   "toc_section_display": true,
   "toc_window_display": false
  },
  "varInspector": {
   "cols": {
    "lenName": 16,
    "lenType": 16,
    "lenVar": 40
   },
   "kernels_config": {
    "python": {
     "delete_cmd_postfix": "",
     "delete_cmd_prefix": "del ",
     "library": "var_list.py",
     "varRefreshCmd": "print(var_dic_list())"
    },
    "r": {
     "delete_cmd_postfix": ") ",
     "delete_cmd_prefix": "rm(",
     "library": "var_list.r",
     "varRefreshCmd": "cat(var_dic_list()) "
    }
   },
   "types_to_exclude": [
    "module",
    "function",
    "builtin_function_or_method",
    "instance",
    "_Feature"
   ],
   "window_display": false
  }
 },
 "nbformat": 4,
 "nbformat_minor": 5
}
